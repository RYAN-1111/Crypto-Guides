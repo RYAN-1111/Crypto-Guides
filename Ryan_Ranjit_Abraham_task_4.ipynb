{
 "cells": [
  {
   "cell_type": "markdown",
   "id": "5f557b37",
   "metadata": {},
   "source": [
    "# Data Preprocessing"
   ]
  },
  {
   "cell_type": "code",
   "execution_count": 1,
   "id": "388f5735",
   "metadata": {},
   "outputs": [],
   "source": [
    "import pandas as pd\n",
    "import requests\n",
    "from sklearn.model_selection import train_test_split\n",
    "from sklearn.ensemble import RandomForestRegressor\n",
    "from sklearn.metrics import mean_squared_error\n",
    "import numpy as np\n",
    "\n",
    "# Function to fetch cryptocurrency data from Binance API\n",
    "def fetch_cryptocurrency_data(symbol, interval, limit):\n",
    "    base_url = \"https://api.binance.com/api/v3/klines\"\n",
    "    params = {\n",
    "        \"symbol\": symbol + \"USDT\",\n",
    "        \"interval\": interval,\n",
    "        \"limit\": limit\n",
    "    }\n",
    "    response = requests.get(base_url, params=params)\n",
    "    data = response.json()\n",
    "    return data\n",
    "\n",
    "# Function to append latest data to a CSV file\n",
    "def append_latest_data_to_csv(file_path, symbol, interval):\n",
    "    data = fetch_cryptocurrency_data(symbol, interval, 1)\n",
    "    latest_data = data[0]\n",
    "    df = pd.read_csv(file_path)\n",
    "    new_row = [latest_data[0], latest_data[1], latest_data[2], latest_data[3], latest_data[4], latest_data[5]]\n",
    "    df.loc[len(df)] = new_row\n",
    "    df.to_csv(file_path, index=False)\n",
    "\n",
    "# Function to update master dataset\n",
    "def update_master_dataset(file_path, symbol, interval):\n",
    "    append_latest_data_to_csv(file_path, symbol, interval)\n"
   ]
  },
  {
   "cell_type": "markdown",
   "id": "5681227c",
   "metadata": {},
   "source": [
    "# Model Training and Evaluation"
   ]
  },
  {
   "cell_type": "markdown",
   "id": "48321e8e",
   "metadata": {},
   "source": [
    "## Random Forest Regressor\n",
    "Random Forest is an ensemble learning method that combines multiple decision trees to make predictions. It's effective for cryptocurrency price prediction due to its ability to handle non-linear relationships and capture complex interactions between features. Random Forest can work well with a variety of input features, including historical price data, trading volume, technical indicators, and sentiment analysis.\n"
   ]
  },
  {
   "cell_type": "code",
   "execution_count": 2,
   "id": "1b1c9efb",
   "metadata": {},
   "outputs": [
    {
     "name": "stdout",
     "output_type": "stream",
     "text": [
      "Random Forest Mean Squared Error: 1820400.89\n",
      "The predicted price for the next day for BTC is $26019.84\n"
     ]
    }
   ],
   "source": [
    "# Function to train a Random Forest model and predict next day's price\n",
    "# Function to train a Random Forest model and predict next day's price\n",
    "def predict_next_day_price(file_path):\n",
    "    df = pd.read_csv(file_path)\n",
    "    df['timestamp'] = pd.to_datetime(df['timestamp'], unit='ms')\n",
    "\n",
    "    # Calculate daily price change\n",
    "    df['price_change'] = df['close'].diff(-1)\n",
    "    df.dropna(subset=['price_change'], inplace=True)\n",
    "\n",
    "    # Prepare features and target\n",
    "    X = df[['open', 'high', 'low', 'volume']]\n",
    "    y = df['price_change']\n",
    "\n",
    "    # Split the data into training and testing sets\n",
    "    X_train, X_test, y_train, y_test = train_test_split(X, y, test_size=0.2, random_state=42)\n",
    "\n",
    "    # Train a Random Forest model\n",
    "    rf_model = RandomForestRegressor(n_estimators=100, random_state=42)\n",
    "    rf_model.fit(X_train, y_train)\n",
    "    y_rf_pred = rf_model.predict(X_test)\n",
    "    mse_rf = mean_squared_error(y_test, y_rf_pred)\n",
    "    print(f\"Random Forest Mean Squared Error: {mse_rf:.2f}\")\n",
    "\n",
    "    # Make prediction for the next day's price change\n",
    "    latest_features = X.tail(1)\n",
    "    predicted_price_change = rf_model.predict(latest_features)[0]\n",
    "\n",
    "    # Calculate the next day's predicted price\n",
    "    latest_close = df['close'].iloc[-1]\n",
    "    predicted_next_day_price = latest_close + predicted_price_change\n",
    "\n",
    "    return predicted_next_day_price\n",
    "\n",
    "# Example usage\n",
    "update_master_dataset(\"btc_data.csv\", \"BTC\", \"1d\")  # Update the dataset\n",
    "predicted_price = predict_next_day_price(\"btc_data.csv\")\n",
    "print(f\"The predicted price for the next day for BTC is ${predicted_price:.2f}\")"
   ]
  },
  {
   "cell_type": "markdown",
   "id": "f5f499b2",
   "metadata": {},
   "source": [
    "## Gradient Boosting\n",
    "Gradient Boosting is another ensemble learning technique that builds an additive model in a forward stage-wise manner. Models like XGBoost (Extreme Gradient Boosting) and LightGBM (Light Gradient Boosting Machine) are popular implementations of this approach. Gradient Boosting can capture both linear and non-linear relationships in the data, making it suitable for predicting cryptocurrency prices using various features."
   ]
  },
  {
   "cell_type": "code",
   "execution_count": 3,
   "id": "d8b2ee3b",
   "metadata": {},
   "outputs": [
    {
     "name": "stdout",
     "output_type": "stream",
     "text": [
      "Gradient Boosting Mean Squared Error: 1589303.91\n",
      "The predicted price for the next day for BTC is $25934.99\n"
     ]
    }
   ],
   "source": [
    "from sklearn.ensemble import GradientBoostingRegressor\n",
    "def predict_next_day_price(file_path):\n",
    "    df = pd.read_csv(file_path)\n",
    "    df['timestamp'] = pd.to_datetime(df['timestamp'], unit='ms')\n",
    "\n",
    "    # Calculate daily price change\n",
    "    df['price_change'] = df['close'].diff(-1)\n",
    "    df.dropna(subset=['price_change'], inplace=True)\n",
    "\n",
    "    # Prepare features and target\n",
    "    X = df[['open', 'high', 'low', 'volume']]\n",
    "    y = df['price_change']\n",
    "\n",
    "    # Split the data into training and testing sets\n",
    "    X_train, X_test, y_train, y_test = train_test_split(X, y, test_size=0.2, random_state=42)\n",
    "\n",
    "    # Train a Gradient Boosting model\n",
    "    gb_model = GradientBoostingRegressor(n_estimators=100, random_state=42)\n",
    "    gb_model.fit(X_train, y_train)\n",
    "    y_gb_pred = gb_model.predict(X_test)\n",
    "    mse_gb = mean_squared_error(y_test, y_gb_pred)\n",
    "    print(f\"Gradient Boosting Mean Squared Error: {mse_gb:.2f}\")\n",
    "\n",
    "    # Make prediction for the next day's price change\n",
    "    latest_features = X.tail(1)\n",
    "    predicted_price_change = gb_model.predict(latest_features)[0]\n",
    "\n",
    "    # Calculate the next day's predicted price\n",
    "    latest_close = df['close'].iloc[-1]\n",
    "    predicted_next_day_price = latest_close + predicted_price_change\n",
    "\n",
    "    return predicted_next_day_price\n",
    "\n",
    "# Example usage\n",
    "update_master_dataset(\"btc_data.csv\", \"BTC\", \"1d\")  # Update the dataset\n",
    "predicted_price = predict_next_day_price(\"btc_data.csv\")\n",
    "print(f\"The predicted price for the next day for BTC is ${predicted_price:.2f}\")"
   ]
  },
  {
   "cell_type": "markdown",
   "id": "e886cc06",
   "metadata": {},
   "source": [
    "## Support Vector Regression (SVR)\n",
    "SVR is a machine learning model that aims to find the best-fitting hyperplane that predicts target values within a certain margin of error. It's useful for cryptocurrency price prediction when dealing with datasets where the relationships between features and prices are not straightforward. SVR can handle both linear and non-linear relationships by using kernel functions to map data into higher-dimensional spaces."
   ]
  },
  {
   "cell_type": "code",
   "execution_count": 4,
   "id": "df9c84e8",
   "metadata": {},
   "outputs": [
    {
     "name": "stdout",
     "output_type": "stream",
     "text": [
      "SVR Mean Squared Error: 17871876.23\n",
      "The predicted price for the next day for BTC is $24737.50\n"
     ]
    }
   ],
   "source": [
    "from sklearn.svm import SVR\n",
    "def predict_next_day_price(file_path):\n",
    "    df = pd.read_csv(file_path)\n",
    "    df['timestamp'] = pd.to_datetime(df['timestamp'], unit='ms')\n",
    "\n",
    "    # Calculate daily price change\n",
    "    df['price_change'] = df['close'].diff(-1)\n",
    "    df.dropna(subset=['price_change'], inplace=True)\n",
    "\n",
    "    # Prepare features and target\n",
    "    X = df[['open', 'high', 'low', 'volume']]\n",
    "    y = df['price_change']\n",
    "\n",
    "    # Split the data into training and testing sets\n",
    "    X_train, X_test, y_train, y_test = train_test_split(X, y, test_size=0.2, random_state=42)\n",
    "\n",
    "    # Train an SVR model\n",
    "    svr_model = SVR(kernel='linear')\n",
    "    svr_model.fit(X_train, y_train)\n",
    "    y_svr_pred = svr_model.predict(X_test)\n",
    "    mse_svr = mean_squared_error(y_test, y_svr_pred)\n",
    "    print(f\"SVR Mean Squared Error: {mse_svr:.2f}\")\n",
    "\n",
    "    # Make prediction for the next day's price change\n",
    "    latest_features = X.tail(1)\n",
    "    predicted_price_change = svr_model.predict(latest_features)[0]\n",
    "\n",
    "    # Calculate the next day's predicted price\n",
    "    latest_close = df['close'].iloc[-1]\n",
    "    predicted_next_day_price = latest_close + predicted_price_change\n",
    "\n",
    "    return predicted_next_day_price\n",
    "\n",
    "# Example usage\n",
    "update_master_dataset(\"btc_data.csv\", \"BTC\", \"1d\")  # Update the dataset\n",
    "predicted_price = predict_next_day_price(\"btc_data.csv\")\n",
    "print(f\"The predicted price for the next day for BTC is ${predicted_price:.2f}\")"
   ]
  },
  {
   "cell_type": "markdown",
   "id": "51cb099d",
   "metadata": {},
   "source": [
    "# Results and Discussion:\n",
    "\n",
    "The models were evaluated based on their MSE values, which provide insight into how closely the predicted values align with the actual values. The results are as follows:\n",
    "\n",
    "#### Random Forest Regressor:\n",
    "Mean Squared Error: 1820400.89\n",
    "Predicted Price for Next Day: $26019.84\n",
    "\n",
    "#### Gradient Boosting Regressor:\n",
    "Mean Squared Error: 1589303.91\n",
    "Predicted Price for Next Day: $25934.99\n",
    "\n",
    "#### Support Vector Regressor (SVR):\n",
    "Mean Squared Error: 17871876.23\n",
    "Predicted Price for Next Day: $24737.50\n",
    "\n"
   ]
  },
  {
   "cell_type": "markdown",
   "id": "9f90ebd9",
   "metadata": {},
   "source": [
    "# Conclusion and Recommendations:\n",
    "Based on the evaluation results, the Gradient Boosting Regressor exhibited the lowest Mean Squared Error among the three models, closely followed by the Random Forest Regressor. These two models demonstrate their ability to capture the underlying patterns in cryptocurrency price data and make accurate predictions.\n",
    "\n",
    "While the SVR model had the highest MSE, its performance could potentially improve with hyperparameter tuning or by incorporating additional features. However, the SVR model's current performance suggests that it might not be the best choice for predicting cryptocurrency prices in this context.\n",
    "\n",
    "## Final Recommendation\n",
    "For predicting cryptocurrency prices for the next day, it is recommended to use the Gradient Boosting Regressor due to its relatively lower Mean Squared Error and consistent predictive performance. However, it's essential to continuously monitor the model's performance as the cryptocurrency market's dynamics can change rapidly."
   ]
  },
  {
   "cell_type": "code",
   "execution_count": null,
   "id": "5e56fc84",
   "metadata": {},
   "outputs": [],
   "source": []
  }
 ],
 "metadata": {
  "kernelspec": {
   "display_name": "Python 3 (ipykernel)",
   "language": "python",
   "name": "python3"
  },
  "language_info": {
   "codemirror_mode": {
    "name": "ipython",
    "version": 3
   },
   "file_extension": ".py",
   "mimetype": "text/x-python",
   "name": "python",
   "nbconvert_exporter": "python",
   "pygments_lexer": "ipython3",
   "version": "3.11.0"
  }
 },
 "nbformat": 4,
 "nbformat_minor": 5
}
