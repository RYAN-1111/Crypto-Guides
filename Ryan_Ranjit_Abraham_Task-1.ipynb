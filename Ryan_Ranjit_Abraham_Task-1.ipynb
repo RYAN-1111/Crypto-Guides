{
 "cells": [
  {
   "cell_type": "markdown",
   "id": "379a48a1",
   "metadata": {},
   "source": [
    "Yahoo Finance (https://finance.yahoo.com):\n",
    "\n",
    "Provides daily open and closing price data.\n",
    "\n",
    "Limited to daily granularity.\n",
    "\n",
    "Suitable if you only need daily open and closing prices.\n",
    "\n",
    "Not suitable for hourly or weekly breakdowns.\n",
    "\n",
    "\n",
    "\n",
    "CoinMarketCap (https://coinmarketcap.com/):\n",
    "\n",
    "Offers an API that provides cryptocurrency data, including price, market cap, volume, etc.\n",
    "\n",
    "Can fulfill the requirements for Bitcoin, Ethereum, and Litecoin data in USD.\n",
    "\n",
    "Allows different granularities (daily, hourly, etc.).\n",
    "\n",
    "Popular and widely used for cryptocurrency data.\n",
    "\n",
    "\n",
    "\n",
    "Binance (https://www.binance.com/):\n",
    "\n",
    "Offers an API for fetching trading data from their exchange.\n",
    "\n",
    "Likely to provide accurate and up-to-date data due to being a major exchange.\n",
    "\n",
    "Offers various granularities for data.\n",
    "\n",
    "Can be used for cryptocurrency trading data, including prices.\n",
    "\n",
    "\n",
    "\n",
    "Coinbase (https://www.coinbase.com/) and Coinbase API (https://pypi.org/project/coinbase/):\n",
    "\n",
    "Coinbase offers an API for accessing trading data.\n",
    "\n",
    "Suitable for obtaining cryptocurrency prices.\n",
    "\n",
    "The Coinbase API client library in Python can simplify the process of fetching data from their API.\n",
    "\n",
    "\n",
    "General Web Scraping\n",
    "\n",
    "Web scraping involves navigating through HTML structures of websites, which can break if the website layout changes. Additionally, excessive scraping can lead to IP blocking or legal issues.\n"
   ]
  },
  {
   "cell_type": "markdown",
   "id": "60b8b8b2",
   "metadata": {},
   "source": [
    "CoinMarketCap and Binance are likely the most suitable sources for obtaining cryptocurrency price data. Both provide APIs that allows to fetch the required data for Bitcoin, Ethereum, and Litecoin in USD, with options for different granularities. Since Binance is a major exchange, its data might be especially reliable for trading data purposes."
   ]
  },
  {
   "cell_type": "markdown",
   "id": "eda6fb38",
   "metadata": {},
   "source": [
    "### Code Snippet"
   ]
  },
  {
   "cell_type": "code",
   "execution_count": null,
   "id": "3c971076",
   "metadata": {},
   "outputs": [],
   "source": [
    "import requests\n",
    "\n",
    "# Replace with your actual CoinMarketCap API key\n",
    "api_key = \"YOUR_API_KEY\"\n",
    "\n",
    "# List of cryptocurrencies to fetch data for\n",
    "cryptos = [\"bitcoin\", \"ethereum\", \"litecoin\"]\n",
    "\n",
    "# Loop through each cryptocurrency\n",
    "for crypto in cryptos:\n",
    "    url = f\"https://pro-api.coinmarketcap.com/v1/cryptocurrency/listings/latest\"\n",
    "    parameters = {\n",
    "        \"start\": 1,\n",
    "        \"limit\": 1,\n",
    "        \"convert\": \"USD\",\n",
    "        \"symbol\": crypto\n",
    "    }\n",
    "    headers = {\n",
    "        \"Accepts\": \"application/json\",\n",
    "        \"X-CMC_PRO_API_KEY\": api_key,\n",
    "    }\n",
    "    response = requests.get(url, params=parameters, headers=headers)\n",
    "    data = response.json()\n",
    "\n",
    "    # Extract and print relevant data\n",
    "    print(f\"{crypto.upper()} - Price: ${data['data'][0]['quote']['USD']['price']}\")\n"
   ]
  }
 ],
 "metadata": {
  "kernelspec": {
   "display_name": "Python 3 (ipykernel)",
   "language": "python",
   "name": "python3"
  },
  "language_info": {
   "codemirror_mode": {
    "name": "ipython",
    "version": 3
   },
   "file_extension": ".py",
   "mimetype": "text/x-python",
   "name": "python",
   "nbconvert_exporter": "python",
   "pygments_lexer": "ipython3",
   "version": "3.11.0"
  }
 },
 "nbformat": 4,
 "nbformat_minor": 5
}
